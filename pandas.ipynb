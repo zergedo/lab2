{
 "cells": [
  {
   "cell_type": "markdown",
   "id": "64d44da9-558f-4634-9de8-de0f46f93cfe",
   "metadata": {},
   "source": [
    "## Часть 1: Введение в Pandas\n",
    "\n",
    "Pandas - это библиотека Python для работы с данными. Она предоставляет мощные инструменты для анализа и манипуляции данными.\n",
    "\n",
    "### Установка Pandas\n",
    "\n",
    "Для начала убедитесь, что у вас установлена библиотека Pandas. Если ее нет, установите ее с помощью команды:\n"
   ]
  },
  {
   "cell_type": "code",
   "execution_count": 2,
   "id": "7484df51-b002-414c-ae42-75a2df57c78d",
   "metadata": {},
   "outputs": [
    {
     "name": "stdout",
     "output_type": "stream",
     "text": [
      "Requirement already satisfied: pandas in c:\\users\\zerge\\appdata\\local\\programs\\python\\python313\\lib\\site-packages (2.2.3)\n",
      "Requirement already satisfied: numpy>=1.26.0 in c:\\users\\zerge\\appdata\\local\\programs\\python\\python313\\lib\\site-packages (from pandas) (2.1.2)\n",
      "Requirement already satisfied: python-dateutil>=2.8.2 in c:\\users\\zerge\\appdata\\roaming\\python\\python313\\site-packages (from pandas) (2.9.0.post0)\n",
      "Requirement already satisfied: pytz>=2020.1 in c:\\users\\zerge\\appdata\\local\\programs\\python\\python313\\lib\\site-packages (from pandas) (2024.2)\n",
      "Requirement already satisfied: tzdata>=2022.7 in c:\\users\\zerge\\appdata\\local\\programs\\python\\python313\\lib\\site-packages (from pandas) (2024.2)\n",
      "Requirement already satisfied: six>=1.5 in c:\\users\\zerge\\appdata\\roaming\\python\\python313\\site-packages (from python-dateutil>=2.8.2->pandas) (1.16.0)\n"
     ]
    }
   ],
   "source": [
    "!pip install pandas"
   ]
  },
  {
   "cell_type": "markdown",
   "id": "4b655e29-c3a5-4117-9860-2d6b9af62ac1",
   "metadata": {},
   "source": [
    "## Импорт библиотеки\n",
    "Давайте начнем с импорта библиотеки Pandas:"
   ]
  },
  {
   "cell_type": "code",
   "execution_count": 5,
   "id": "bfc3346f-3843-4aff-aec0-54321b9774f0",
   "metadata": {
    "tags": []
   },
   "outputs": [],
   "source": [
    "import pandas as pd"
   ]
  },
  {
   "cell_type": "markdown",
   "id": "ea8530e9-c179-48c1-8043-ff87f415ee67",
   "metadata": {},
   "source": [
    "## Часть 2: Работа с данными\n",
    "### Чтение данных\n",
    "Мы будем использовать датасет Titanic. Давайте прочитаем данные из CSV файла."
   ]
  },
  {
   "cell_type": "code",
   "execution_count": 6,
   "id": "fa5deec6-c85e-4d88-89df-bea7d75fcbba",
   "metadata": {},
   "outputs": [],
   "source": [
    "titanic_data = pd.read_csv(\"titanic.csv\")"
   ]
  },
  {
   "cell_type": "markdown",
   "id": "07dfd488-4960-495e-80d8-9cf5903449b6",
   "metadata": {},
   "source": [
    "### Предпросмотр данных\n",
    "Для первого ознакомления с данными давайте выведем первые несколько строк."
   ]
  },
  {
   "cell_type": "code",
   "execution_count": 7,
   "id": "216e104c-259f-4ecd-9cd4-40362f61ca4e",
   "metadata": {},
   "outputs": [
    {
     "name": "stdout",
     "output_type": "stream",
     "text": [
      "   PassengerId  Survived  Pclass  \\\n",
      "0            1         0       3   \n",
      "1            2         1       1   \n",
      "2            3         1       3   \n",
      "3            4         1       1   \n",
      "4            5         0       3   \n",
      "\n",
      "                                                Name     Sex   Age  SibSp  \\\n",
      "0                            Braund, Mr. Owen Harris    male  22.0      1   \n",
      "1  Cumings, Mrs. John Bradley (Florence Briggs Th...  female  38.0      1   \n",
      "2                             Heikkinen, Miss. Laina  female  26.0      0   \n",
      "3       Futrelle, Mrs. Jacques Heath (Lily May Peel)  female  35.0      1   \n",
      "4                           Allen, Mr. William Henry    male  35.0      0   \n",
      "\n",
      "   Parch            Ticket     Fare Cabin Embarked  \n",
      "0      0         A/5 21171   7.2500   NaN        S  \n",
      "1      0          PC 17599  71.2833   C85        C  \n",
      "2      0  STON/O2. 3101282   7.9250   NaN        S  \n",
      "3      0            113803  53.1000  C123        S  \n",
      "4      0            373450   8.0500   NaN        S  \n"
     ]
    }
   ],
   "source": [
    "print(titanic_data.head())"
   ]
  },
  {
   "cell_type": "markdown",
   "id": "b7ba5f57-07e1-4c0f-9b55-9d78638ee2cc",
   "metadata": {},
   "source": [
    "### Информация о данных\n",
    "Чтобы получить общую информацию о данных, воспользуйтесь методом .info()."
   ]
  },
  {
   "cell_type": "code",
   "execution_count": 8,
   "id": "43650b4f-f3e7-4480-b874-b5552f564383",
   "metadata": {},
   "outputs": [
    {
     "name": "stdout",
     "output_type": "stream",
     "text": [
      "<class 'pandas.core.frame.DataFrame'>\n",
      "RangeIndex: 891 entries, 0 to 890\n",
      "Data columns (total 12 columns):\n",
      " #   Column       Non-Null Count  Dtype  \n",
      "---  ------       --------------  -----  \n",
      " 0   PassengerId  891 non-null    int64  \n",
      " 1   Survived     891 non-null    int64  \n",
      " 2   Pclass       891 non-null    int64  \n",
      " 3   Name         891 non-null    object \n",
      " 4   Sex          891 non-null    object \n",
      " 5   Age          714 non-null    float64\n",
      " 6   SibSp        891 non-null    int64  \n",
      " 7   Parch        891 non-null    int64  \n",
      " 8   Ticket       891 non-null    object \n",
      " 9   Fare         891 non-null    float64\n",
      " 10  Cabin        204 non-null    object \n",
      " 11  Embarked     889 non-null    object \n",
      "dtypes: float64(2), int64(5), object(5)\n",
      "memory usage: 83.7+ KB\n",
      "None\n"
     ]
    }
   ],
   "source": [
    "print(titanic_data.info())"
   ]
  },
  {
   "cell_type": "markdown",
   "id": "a6857118-a82e-4586-a933-4eb0df9cb74e",
   "metadata": {},
   "source": [
    "### Работа с NaN\n",
    "Часто данные содержат пропущенные значения, которые представляются как NaN (Not a Number). Pandas предоставляет удобные методы для работы с ними.\n",
    "\n",
    "Проверка на наличие NaN. Методы fillna и dropna возвращают новые Dataframe, проверьте нет ли в них NaN"
   ]
  },
  {
   "cell_type": "code",
   "execution_count": 9,
   "id": "f7910fde-24f7-4cf8-991d-01f08bc45b63",
   "metadata": {
    "tags": []
   },
   "outputs": [
    {
     "name": "stdout",
     "output_type": "stream",
     "text": [
      "     PassengerId  Survived  Pclass   Name    Sex    Age  SibSp  Parch  Ticket  \\\n",
      "0          False     False   False  False  False  False  False  False   False   \n",
      "1          False     False   False  False  False  False  False  False   False   \n",
      "2          False     False   False  False  False  False  False  False   False   \n",
      "3          False     False   False  False  False  False  False  False   False   \n",
      "4          False     False   False  False  False  False  False  False   False   \n",
      "..           ...       ...     ...    ...    ...    ...    ...    ...     ...   \n",
      "886        False     False   False  False  False  False  False  False   False   \n",
      "887        False     False   False  False  False  False  False  False   False   \n",
      "888        False     False   False  False  False   True  False  False   False   \n",
      "889        False     False   False  False  False  False  False  False   False   \n",
      "890        False     False   False  False  False  False  False  False   False   \n",
      "\n",
      "      Fare  Cabin  Embarked  \n",
      "0    False   True     False  \n",
      "1    False  False     False  \n",
      "2    False   True     False  \n",
      "3    False  False     False  \n",
      "4    False   True     False  \n",
      "..     ...    ...       ...  \n",
      "886  False   True     False  \n",
      "887  False  False     False  \n",
      "888  False   True     False  \n",
      "889  False  False     False  \n",
      "890  False   True     False  \n",
      "\n",
      "[891 rows x 12 columns]\n"
     ]
    }
   ],
   "source": [
    "print(titanic_data.isna())"
   ]
  },
  {
   "cell_type": "markdown",
   "id": "1dadeaf7-e214-4552-b054-8e4a03714f72",
   "metadata": {},
   "source": [
    "Заполнение NaN"
   ]
  },
  {
   "cell_type": "code",
   "execution_count": 10,
   "id": "7d901187-75a9-497e-8774-6e0dde584197",
   "metadata": {},
   "outputs": [
    {
     "name": "stdout",
     "output_type": "stream",
     "text": [
      "     PassengerId  Survived  Pclass  \\\n",
      "0              1         0       3   \n",
      "1              2         1       1   \n",
      "2              3         1       3   \n",
      "3              4         1       1   \n",
      "4              5         0       3   \n",
      "..           ...       ...     ...   \n",
      "886          887         0       2   \n",
      "887          888         1       1   \n",
      "888          889         0       3   \n",
      "889          890         1       1   \n",
      "890          891         0       3   \n",
      "\n",
      "                                                  Name     Sex   Age  SibSp  \\\n",
      "0                              Braund, Mr. Owen Harris    male  22.0      1   \n",
      "1    Cumings, Mrs. John Bradley (Florence Briggs Th...  female  38.0      1   \n",
      "2                               Heikkinen, Miss. Laina  female  26.0      0   \n",
      "3         Futrelle, Mrs. Jacques Heath (Lily May Peel)  female  35.0      1   \n",
      "4                             Allen, Mr. William Henry    male  35.0      0   \n",
      "..                                                 ...     ...   ...    ...   \n",
      "886                              Montvila, Rev. Juozas    male  27.0      0   \n",
      "887                       Graham, Miss. Margaret Edith  female  19.0      0   \n",
      "888           Johnston, Miss. Catherine Helen \"Carrie\"  female   0.0      1   \n",
      "889                              Behr, Mr. Karl Howell    male  26.0      0   \n",
      "890                                Dooley, Mr. Patrick    male  32.0      0   \n",
      "\n",
      "     Parch            Ticket     Fare Cabin Embarked  \n",
      "0        0         A/5 21171   7.2500     0        S  \n",
      "1        0          PC 17599  71.2833   C85        C  \n",
      "2        0  STON/O2. 3101282   7.9250     0        S  \n",
      "3        0            113803  53.1000  C123        S  \n",
      "4        0            373450   8.0500     0        S  \n",
      "..     ...               ...      ...   ...      ...  \n",
      "886      0            211536  13.0000     0        S  \n",
      "887      0            112053  30.0000   B42        S  \n",
      "888      2        W./C. 6607  23.4500     0        S  \n",
      "889      0            111369  30.0000  C148        C  \n",
      "890      0            370376   7.7500     0        Q  \n",
      "\n",
      "[891 rows x 12 columns]\n"
     ]
    }
   ],
   "source": [
    "print(titanic_data.fillna(0))"
   ]
  },
  {
   "cell_type": "markdown",
   "id": "6f32fddb-ec60-456b-8958-5c81b0357d49",
   "metadata": {},
   "source": [
    "Удаление строк с NaN"
   ]
  },
  {
   "cell_type": "code",
   "execution_count": 11,
   "id": "4d188deb-0818-4b01-b3a5-9d20d2166d10",
   "metadata": {
    "tags": []
   },
   "outputs": [
    {
     "name": "stdout",
     "output_type": "stream",
     "text": [
      "     PassengerId  Survived  Pclass  \\\n",
      "1              2         1       1   \n",
      "3              4         1       1   \n",
      "6              7         0       1   \n",
      "10            11         1       3   \n",
      "11            12         1       1   \n",
      "..           ...       ...     ...   \n",
      "871          872         1       1   \n",
      "872          873         0       1   \n",
      "879          880         1       1   \n",
      "887          888         1       1   \n",
      "889          890         1       1   \n",
      "\n",
      "                                                  Name     Sex   Age  SibSp  \\\n",
      "1    Cumings, Mrs. John Bradley (Florence Briggs Th...  female  38.0      1   \n",
      "3         Futrelle, Mrs. Jacques Heath (Lily May Peel)  female  35.0      1   \n",
      "6                              McCarthy, Mr. Timothy J    male  54.0      0   \n",
      "10                     Sandstrom, Miss. Marguerite Rut  female   4.0      1   \n",
      "11                            Bonnell, Miss. Elizabeth  female  58.0      0   \n",
      "..                                                 ...     ...   ...    ...   \n",
      "871   Beckwith, Mrs. Richard Leonard (Sallie Monypeny)  female  47.0      1   \n",
      "872                           Carlsson, Mr. Frans Olof    male  33.0      0   \n",
      "879      Potter, Mrs. Thomas Jr (Lily Alexenia Wilson)  female  56.0      0   \n",
      "887                       Graham, Miss. Margaret Edith  female  19.0      0   \n",
      "889                              Behr, Mr. Karl Howell    male  26.0      0   \n",
      "\n",
      "     Parch    Ticket     Fare        Cabin Embarked  \n",
      "1        0  PC 17599  71.2833          C85        C  \n",
      "3        0    113803  53.1000         C123        S  \n",
      "6        0     17463  51.8625          E46        S  \n",
      "10       1   PP 9549  16.7000           G6        S  \n",
      "11       0    113783  26.5500         C103        S  \n",
      "..     ...       ...      ...          ...      ...  \n",
      "871      1     11751  52.5542          D35        S  \n",
      "872      0       695   5.0000  B51 B53 B55        S  \n",
      "879      1     11767  83.1583          C50        C  \n",
      "887      0    112053  30.0000          B42        S  \n",
      "889      0    111369  30.0000         C148        C  \n",
      "\n",
      "[183 rows x 12 columns]\n"
     ]
    }
   ],
   "source": [
    "print(titanic_data.dropna())"
   ]
  },
  {
   "cell_type": "markdown",
   "id": "7a4ff131-1593-4cd2-b2bc-e0ddb2442d3b",
   "metadata": {},
   "source": [
    "## Часть 3: Обработка DataFrame\n",
    "### Выбор данных\n",
    "Pandas позволяет выбирать данные по индексам, меткам столбцов и условиям."
   ]
  },
  {
   "cell_type": "code",
   "execution_count": 12,
   "id": "d11f6114-ce4b-4e71-afec-adf1d8c1ec6e",
   "metadata": {
    "tags": []
   },
   "outputs": [
    {
     "name": "stdout",
     "output_type": "stream",
     "text": [
      "0    22.0\n",
      "1    38.0\n",
      "2    26.0\n",
      "3    35.0\n",
      "4    35.0\n",
      "Name: Age, dtype: float64\n",
      "\n",
      "    Age                                               Name\n",
      "0  22.0                            Braund, Mr. Owen Harris\n",
      "1  38.0  Cumings, Mrs. John Bradley (Florence Briggs Th...\n",
      "2  26.0                             Heikkinen, Miss. Laina\n",
      "3  35.0       Futrelle, Mrs. Jacques Heath (Lily May Peel)\n",
      "4  35.0                           Allen, Mr. William Henry\n",
      "\n",
      "PassengerId                   6\n",
      "Survived                      0\n",
      "Pclass                        3\n",
      "Name           Moran, Mr. James\n",
      "Sex                        male\n",
      "Name: 5, dtype: object\n",
      "\n",
      "    PassengerId  Survived  Pclass                         Name   Sex   Age  \\\n",
      "4             5         0       3     Allen, Mr. William Henry  male  35.0   \n",
      "6             7         0       1      McCarthy, Mr. Timothy J  male  54.0   \n",
      "13           14         0       3  Andersson, Mr. Anders Johan  male  39.0   \n",
      "20           21         0       2         Fynney, Mr. Joseph J  male  35.0   \n",
      "21           22         1       2        Beesley, Mr. Lawrence  male  34.0   \n",
      "\n",
      "    SibSp  Parch  Ticket     Fare Cabin Embarked  \n",
      "4       0      0  373450   8.0500   NaN        S  \n",
      "6       0      0   17463  51.8625   E46        S  \n",
      "13      1      5  347082  31.2750   NaN        S  \n",
      "20      0      0  239865  26.0000   NaN        S  \n",
      "21      0      0  248698  13.0000   D56        S  \n"
     ]
    }
   ],
   "source": [
    "\n",
    "print(titanic_data[\"Age\"].head(), end=\"\\n\\n\")\n",
    "\n",
    "print(titanic_data[[\"Age\", \"Name\"]].head(), end=\"\\n\\n\")\n",
    "\n",
    "print(titanic_data.loc[5].head(), end=\"\\n\\n\")\n",
    "\n",
    "print(titanic_data.query(\"Age > 30 & Sex == 'male'\").head())"
   ]
  },
  {
   "cell_type": "markdown",
   "id": "f3102de8-d2fd-4593-bf26-721316ae51e9",
   "metadata": {},
   "source": [
    "### Сортировка данных\n",
    "Сортировка данных по значениям столбцов."
   ]
  },
  {
   "cell_type": "code",
   "execution_count": 5,
   "id": "de5e850c-e920-4ae4-aadb-3f1953438b09",
   "metadata": {
    "tags": []
   },
   "outputs": [
    {
     "name": "stdout",
     "output_type": "stream",
     "text": [
      "     PassengerId  Survived  Pclass                             Name     Sex  \\\n",
      "803          804         1       3  Thomas, Master. Assad Alexander    male   \n",
      "755          756         1       2        Hamalainen, Master. Viljo    male   \n",
      "644          645         1       3           Baclini, Miss. Eugenie  female   \n",
      "469          470         1       3    Baclini, Miss. Helene Barbara  female   \n",
      "78            79         1       2    Caldwell, Master. Alden Gates    male   \n",
      "\n",
      "      Age  SibSp  Parch  Ticket     Fare Cabin Embarked  \n",
      "803  0.42      0      1    2625   8.5167   NaN        C  \n",
      "755  0.67      1      1  250649  14.5000   NaN        S  \n",
      "644  0.75      2      1    2666  19.2583   NaN        C  \n",
      "469  0.75      2      1    2666  19.2583   NaN        C  \n",
      "78   0.83      0      2  248738  29.0000   NaN        S  \n"
     ]
    }
   ],
   "source": [
    "print(titanic_data.sort_values(by=\"Age\").head())"
   ]
  },
  {
   "cell_type": "markdown",
   "id": "eab3cd85-5e96-4228-8834-9ef53b93689a",
   "metadata": {},
   "source": [
    "### Группировка данных\n",
    "Pandas также позволяет группировать данные и выполнять агрегирующие операции."
   ]
  },
  {
   "cell_type": "code",
   "execution_count": 15,
   "id": "25ced901-0482-49a8-8c12-d192e84e3fb3",
   "metadata": {
    "tags": []
   },
   "outputs": [
    {
     "name": "stdout",
     "output_type": "stream",
     "text": [
      "   Pclass  Survived  Name  Percent_of_survivers\n",
      "0       1       136   216              0.629630\n",
      "1       2        87   184              0.472826\n",
      "2       3       119   491              0.242363\n"
     ]
    }
   ],
   "source": [
    "# Найдите долю выживших среди всех PClass\n",
    "result = titanic_data.groupby(\"Pclass\", as_index=False).aggregate({\"Survived\": \"sum\", \"Name\": \"count\"})\n",
    "\n",
    "result[\"Percent_of_survivers\"] = result[\"Survived\"] / result[\"Name\"]\n",
    "print(result)"
   ]
  },
  {
   "cell_type": "markdown",
   "id": "d0355db7-7bf9-46d1-ad51-5f2eddc42501",
   "metadata": {},
   "source": [
    "## Часть 4: Задания для практики\n",
    "Прочитайте данные из файла 'titanic.csv'.\n",
    "Проверьте, есть ли пропущенные значения в данных и заполните их нулями.\n",
    "Выведите первые 10 строк данных.\n",
    "Выберите только те строки, где значение в столбце 'Age' больше 30.\n",
    "Отсортируйте данные по столбцу 'Fare' в порядке убывания.\n",
    "Сгруппируйте данные по столбцу 'Pclass' и вычислите средний возраст ('Age') для каждого класса."
   ]
  },
  {
   "cell_type": "code",
   "execution_count": 17,
   "id": "a1b4deaa-cd06-41b3-8084-5c2d3a867811",
   "metadata": {},
   "outputs": [
    {
     "name": "stdout",
     "output_type": "stream",
     "text": [
      "   PassengerId  Survived  Pclass  \\\n",
      "0            1         0       3   \n",
      "1            2         1       1   \n",
      "2            3         1       3   \n",
      "3            4         1       1   \n",
      "4            5         0       3   \n",
      "5            6         0       3   \n",
      "6            7         0       1   \n",
      "7            8         0       3   \n",
      "8            9         1       3   \n",
      "9           10         1       2   \n",
      "\n",
      "                                                Name     Sex   Age  SibSp  \\\n",
      "0                            Braund, Mr. Owen Harris    male  22.0      1   \n",
      "1  Cumings, Mrs. John Bradley (Florence Briggs Th...  female  38.0      1   \n",
      "2                             Heikkinen, Miss. Laina  female  26.0      0   \n",
      "3       Futrelle, Mrs. Jacques Heath (Lily May Peel)  female  35.0      1   \n",
      "4                           Allen, Mr. William Henry    male  35.0      0   \n",
      "5                                   Moran, Mr. James    male   NaN      0   \n",
      "6                            McCarthy, Mr. Timothy J    male  54.0      0   \n",
      "7                     Palsson, Master. Gosta Leonard    male   2.0      3   \n",
      "8  Johnson, Mrs. Oscar W (Elisabeth Vilhelmina Berg)  female  27.0      0   \n",
      "9                Nasser, Mrs. Nicholas (Adele Achem)  female  14.0      1   \n",
      "\n",
      "   Parch            Ticket     Fare Cabin Embarked  \n",
      "0      0         A/5 21171   7.2500   NaN        S  \n",
      "1      0          PC 17599  71.2833   C85        C  \n",
      "2      0  STON/O2. 3101282   7.9250   NaN        S  \n",
      "3      0            113803  53.1000  C123        S  \n",
      "4      0            373450   8.0500   NaN        S  \n",
      "5      0            330877   8.4583   NaN        Q  \n",
      "6      0             17463  51.8625   E46        S  \n",
      "7      1            349909  21.0750   NaN        S  \n",
      "8      2            347742  11.1333   NaN        S  \n",
      "9      0            237736  30.0708   NaN        C  \n",
      "   Pclass        Age\n",
      "0       1  46.196000\n",
      "1       2  41.694805\n",
      "2       3  39.883495\n"
     ]
    }
   ],
   "source": [
    "titanic_data = pd.read_csv(\"titanic.csv\")\n",
    "titanic_data.fillna(0)\n",
    "print(titanic_data.head(10))\n",
    "titanic_data = titanic_data.query(\"Age > 30\")\n",
    "titanic_data.sort_values(\"Fare\", ascending=False)\n",
    "print(titanic_data.groupby(\"Pclass\", as_index=False).aggregate({\"Age\": \"mean\"}))"
   ]
  }
 ],
 "metadata": {
  "kernelspec": {
   "display_name": "Python 3",
   "language": "python",
   "name": "python3"
  },
  "language_info": {
   "codemirror_mode": {
    "name": "ipython",
    "version": 3
   },
   "file_extension": ".py",
   "mimetype": "text/x-python",
   "name": "python",
   "nbconvert_exporter": "python",
   "pygments_lexer": "ipython3",
   "version": "3.13.0"
  }
 },
 "nbformat": 4,
 "nbformat_minor": 5
}
